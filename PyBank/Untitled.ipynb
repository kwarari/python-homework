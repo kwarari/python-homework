{
 "cells": [
  {
   "cell_type": "code",
   "execution_count": 2,
   "id": "later-japan",
   "metadata": {},
   "outputs": [],
   "source": [
    "# Import the pathlib and csv library\n",
    "from pathlib import Path\n",
    "import csv"
   ]
  },
  {
   "cell_type": "code",
   "execution_count": 3,
   "id": "incorporate-supervisor",
   "metadata": {},
   "outputs": [],
   "source": [
    "# Set the path using Pathlib\n",
    "csvpath = Path('../PyBank/budget_data.csv')"
   ]
  },
  {
   "cell_type": "code",
   "execution_count": 4,
   "id": "demographic-spencer",
   "metadata": {},
   "outputs": [],
   "source": [
    "# Initialize list of records\n",
    "records = []\n",
    "line_num = 0\n",
    "profitloss = []\n",
    "profitloss_dates = []\n",
    "profitloss_sum = 0\n",
    "max_pl = 0\n",
    "min_pl = 0\n",
    "sum = 0"
   ]
  },
  {
   "cell_type": "code",
   "execution_count": 25,
   "id": "statewide-stress",
   "metadata": {},
   "outputs": [
    {
     "name": "stdout",
     "output_type": "stream",
     "text": [
      "['Date', 'Profit/Losses']\n"
     ]
    },
    {
     "ename": "ValueError",
     "evalue": "I/O operation on closed file.",
     "output_type": "error",
     "traceback": [
      "\u001b[1;31m---------------------------------------------------------------------------\u001b[0m",
      "\u001b[1;31mValueError\u001b[0m                                Traceback (most recent call last)",
      "\u001b[1;32m<ipython-input-25-b6285d34fc7e>\u001b[0m in \u001b[0;36m<module>\u001b[1;34m\u001b[0m\n\u001b[0;32m      5\u001b[0m     \u001b[0mheader\u001b[0m \u001b[1;33m=\u001b[0m \u001b[0mnext\u001b[0m\u001b[1;33m(\u001b[0m\u001b[0mcsvreader\u001b[0m\u001b[1;33m)\u001b[0m\u001b[1;33m\u001b[0m\u001b[1;33m\u001b[0m\u001b[0m\n\u001b[0;32m      6\u001b[0m     \u001b[0mprint\u001b[0m\u001b[1;33m(\u001b[0m\u001b[0mheader\u001b[0m\u001b[1;33m)\u001b[0m\u001b[1;33m\u001b[0m\u001b[1;33m\u001b[0m\u001b[0m\n\u001b[1;32m----> 7\u001b[1;33m \u001b[1;32mfor\u001b[0m \u001b[0mrow\u001b[0m \u001b[1;32min\u001b[0m \u001b[0mcsvreader\u001b[0m\u001b[1;33m:\u001b[0m\u001b[1;33m\u001b[0m\u001b[1;33m\u001b[0m\u001b[0m\n\u001b[0m\u001b[0;32m      8\u001b[0m     \u001b[0mprint\u001b[0m\u001b[1;33m(\u001b[0m\u001b[0mrow\u001b[0m\u001b[1;33m)\u001b[0m\u001b[1;33m\u001b[0m\u001b[1;33m\u001b[0m\u001b[0m\n\u001b[0;32m      9\u001b[0m     \u001b[0mline_num\u001b[0m \u001b[1;33m+=\u001b[0m \u001b[1;36m1\u001b[0m\u001b[1;33m\u001b[0m\u001b[1;33m\u001b[0m\u001b[0m\n",
      "\u001b[1;31mValueError\u001b[0m: I/O operation on closed file."
     ]
    }
   ],
   "source": [
    "# Open the csv file as an object\n",
    "with open(csvpath, 'r') as csvfile:\n",
    "    csvreader = csv.reader(csvfile, delimiter=',')\n",
    "    # Read the header row first (skip this step if there is no header)\n",
    "    header = next(csvreader)\n",
    "    print(header)\n",
    "for row in csvreader:\n",
    "    print(row)\n",
    "    line_num += 1\n",
    "    profitloss.append(int(row[1]))\n",
    "    profitloss_sum += int(row[1])\n",
    "    profitloss_dates.append(row[0])\n",
    "    \n",
    "     # Append the column 'Average' to the header\n",
    "    header.append(\"Average\")\n",
    "    # Append the header to the list of records\n",
    "    records.append(header)"
   ]
  },
  {
   "cell_type": "code",
   "execution_count": 13,
   "id": "empty-thumb",
   "metadata": {},
   "outputs": [],
   "source": [
    "profitloss_change = []\n",
    "\n",
    "for i in range(1, len(profitloss)):\n",
    "    x = profitloss[i] - profitloss[i - 1]\n",
    "    profitloss_change.append(int(x))"
   ]
  },
  {
   "cell_type": "code",
   "execution_count": 14,
   "id": "public-minutes",
   "metadata": {},
   "outputs": [],
   "source": [
    "# print(profitloss_change)\n",
    "\n",
    "for i in range(0, len(profitloss_change)):\n",
    "    sum += profitloss_change[i]\n",
    "    average_change_profitloss = round((sum / (len(profitloss_change))), 2)\n"
   ]
  },
  {
   "cell_type": "code",
   "execution_count": 21,
   "id": "german-guess",
   "metadata": {},
   "outputs": [],
   "source": [
    "# print(average_change_profitloss)\n",
    "\n",
    "for profloss in profitloss:\n",
    "    \n",
    "    if min_pl == 0:\n",
    "        max_pl == profitloss\n",
    "        min_pl == profitloss\n",
    "    if profitloss > max_pl:\n",
    "        max_pl = profitloss\n",
    "    elif profitloss < min_pl:\n",
    "        min_pl = profitloss"
   ]
  },
  {
   "cell_type": "code",
   "execution_count": 16,
   "id": "southwest-melbourne",
   "metadata": {},
   "outputs": [
    {
     "ename": "ValueError",
     "evalue": "0 is not in list",
     "output_type": "error",
     "traceback": [
      "\u001b[1;31m---------------------------------------------------------------------------\u001b[0m",
      "\u001b[1;31mValueError\u001b[0m                                Traceback (most recent call last)",
      "\u001b[1;32m<ipython-input-16-98f913d6beab>\u001b[0m in \u001b[0;36m<module>\u001b[1;34m\u001b[0m\n\u001b[0;32m      1\u001b[0m \u001b[1;31m# print(max_pl, min_pl)\u001b[0m\u001b[1;33m\u001b[0m\u001b[1;33m\u001b[0m\u001b[1;33m\u001b[0m\u001b[0m\n\u001b[0;32m      2\u001b[0m \u001b[1;33m\u001b[0m\u001b[0m\n\u001b[1;32m----> 3\u001b[1;33m \u001b[0mmax_pl_index\u001b[0m \u001b[1;33m=\u001b[0m \u001b[0mprofitloss\u001b[0m\u001b[1;33m.\u001b[0m\u001b[0mindex\u001b[0m\u001b[1;33m(\u001b[0m\u001b[0mmax_pl\u001b[0m\u001b[1;33m)\u001b[0m\u001b[1;33m\u001b[0m\u001b[1;33m\u001b[0m\u001b[0m\n\u001b[0m\u001b[0;32m      4\u001b[0m \u001b[0mmin_pl_index\u001b[0m \u001b[1;33m=\u001b[0m \u001b[0mprofitloss\u001b[0m\u001b[1;33m.\u001b[0m\u001b[0mindex\u001b[0m\u001b[1;33m(\u001b[0m\u001b[0mmin_pl\u001b[0m\u001b[1;33m)\u001b[0m\u001b[1;33m\u001b[0m\u001b[1;33m\u001b[0m\u001b[0m\n\u001b[0;32m      5\u001b[0m \u001b[1;33m\u001b[0m\u001b[0m\n",
      "\u001b[1;31mValueError\u001b[0m: 0 is not in list"
     ]
    }
   ],
   "source": [
    "# print(max_pl, min_pl)\n",
    "\n",
    "max_pl_index = profitloss.index(max_pl)\n",
    "min_pl_index = profitloss.index(min_pl)\n",
    "\n",
    "max_pl_date = profitloss_dates[max_pl_index]\n",
    "min_pl_date = profitloss_dates[min_pl_index]\n",
    "\n",
    "print(f\"Financial Analysis\")\n",
    "print(f\"----------------------------\")\n",
    "print(f\"Total Months: {line_num} \")\n",
    "print(f\"Total: ${profitloss_sum}\")\n",
    "print(f\"Average Change: ${average_change_profitloss}\")\n",
    "print(f\"Greatest Increase in Profits: ${max_pl} on {max_pl_date}\")\n",
    "print(f\"Greatest Decrease in Profits: ${min_pl} on {min_pl_date}\")\n"
   ]
  },
  {
   "cell_type": "code",
   "execution_count": 17,
   "id": "generous-polls",
   "metadata": {},
   "outputs": [],
   "source": [
    "output_path = Path('Financial_Analysis.txt')"
   ]
  },
  {
   "cell_type": "code",
   "execution_count": 18,
   "id": "signed-variety",
   "metadata": {},
   "outputs": [
    {
     "ename": "NameError",
     "evalue": "name 'average_change_profitloss' is not defined",
     "output_type": "error",
     "traceback": [
      "\u001b[1;31m---------------------------------------------------------------------------\u001b[0m",
      "\u001b[1;31mNameError\u001b[0m                                 Traceback (most recent call last)",
      "\u001b[1;32m<ipython-input-18-9edf9234d590>\u001b[0m in \u001b[0;36m<module>\u001b[1;34m\u001b[0m\n\u001b[0;32m      4\u001b[0m     \u001b[0mfile\u001b[0m\u001b[1;33m.\u001b[0m\u001b[0mwrite\u001b[0m\u001b[1;33m(\u001b[0m\u001b[1;34mf\"Total Months: {line_num} \\n\"\u001b[0m\u001b[1;33m)\u001b[0m\u001b[1;33m\u001b[0m\u001b[1;33m\u001b[0m\u001b[0m\n\u001b[0;32m      5\u001b[0m     \u001b[0mfile\u001b[0m\u001b[1;33m.\u001b[0m\u001b[0mwrite\u001b[0m\u001b[1;33m(\u001b[0m\u001b[1;34mf\"Total: ${profitloss_sum}\\n\"\u001b[0m\u001b[1;33m)\u001b[0m\u001b[1;33m\u001b[0m\u001b[1;33m\u001b[0m\u001b[0m\n\u001b[1;32m----> 6\u001b[1;33m     \u001b[0mfile\u001b[0m\u001b[1;33m.\u001b[0m\u001b[0mwrite\u001b[0m\u001b[1;33m(\u001b[0m\u001b[1;34mf\"Average Change: ${average_change_profitloss}\\n\"\u001b[0m\u001b[1;33m)\u001b[0m\u001b[1;33m\u001b[0m\u001b[1;33m\u001b[0m\u001b[0m\n\u001b[0m\u001b[0;32m      7\u001b[0m     \u001b[0mfile\u001b[0m\u001b[1;33m.\u001b[0m\u001b[0mwrite\u001b[0m\u001b[1;33m(\u001b[0m\u001b[1;34mf\"Greatest Increase in Profits: {max_pl_date} (${max_pl}) \\n\"\u001b[0m\u001b[1;33m)\u001b[0m\u001b[1;33m\u001b[0m\u001b[1;33m\u001b[0m\u001b[0m\n\u001b[0;32m      8\u001b[0m     \u001b[0mfile\u001b[0m\u001b[1;33m.\u001b[0m\u001b[0mwrite\u001b[0m\u001b[1;33m(\u001b[0m\u001b[1;34mf\"Greatest Decrease in Profits: {min_pl_date} (${min_pl}) \\n\"\u001b[0m\u001b[1;33m)\u001b[0m\u001b[1;33m\u001b[0m\u001b[1;33m\u001b[0m\u001b[0m\n",
      "\u001b[1;31mNameError\u001b[0m: name 'average_change_profitloss' is not defined"
     ]
    }
   ],
   "source": [
    "with open(output_path, 'w') as file:\n",
    "    file.write(f\"Financial Analysis\\n\")\n",
    "    file.write(f\"----------------------------\\n\")\n",
    "    file.write(f\"Total Months: {line_num} \\n\")\n",
    "    file.write(f\"Total: ${profitloss_sum}\\n\")\n",
    "    file.write(f\"Average Change: ${average_change_profitloss}\\n\")\n",
    "    file.write(f\"Greatest Increase in Profits: {max_pl_date} (${max_pl}) \\n\")\n",
    "    file.write(f\"Greatest Decrease in Profits: {min_pl_date} (${min_pl}) \\n\")"
   ]
  },
  {
   "cell_type": "code",
   "execution_count": null,
   "id": "intellectual-collection",
   "metadata": {},
   "outputs": [],
   "source": []
  }
 ],
 "metadata": {
  "kernelspec": {
   "display_name": "Python 3",
   "language": "python",
   "name": "python3"
  },
  "language_info": {
   "codemirror_mode": {
    "name": "ipython",
    "version": 3
   },
   "file_extension": ".py",
   "mimetype": "text/x-python",
   "name": "python",
   "nbconvert_exporter": "python",
   "pygments_lexer": "ipython3",
   "version": "3.8.5"
  }
 },
 "nbformat": 4,
 "nbformat_minor": 5
}
