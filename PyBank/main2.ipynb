{
 "cells": [
  {
   "cell_type": "code",
   "execution_count": 1,
   "id": "waiting-clearance",
   "metadata": {},
   "outputs": [],
   "source": [
    "# Import the pathlib and csv library\n",
    "from pathlib import Path\n",
    "import csv"
   ]
  },
  {
   "cell_type": "code",
   "execution_count": 2,
   "id": "modular-pillow",
   "metadata": {},
   "outputs": [],
   "source": [
    "# Set the path using Pathlib\n",
    "csvpath = Path('../PyBank/budget_data.csv')"
   ]
  },
  {
   "cell_type": "code",
   "execution_count": 3,
   "id": "technological-copyright",
   "metadata": {},
   "outputs": [],
   "source": [
    "# Initialize list of records\n",
    "records = []\n",
    "line_num = 0\n",
    "profitloss = []\n",
    "profitloss_dates = []\n",
    "profitloss_sum = 0\n",
    "max_pl = 0\n",
    "min_pl = 0\n",
    "sum = 0"
   ]
  },
  {
   "cell_type": "code",
   "execution_count": 7,
   "id": "canadian-elite",
   "metadata": {},
   "outputs": [
    {
     "name": "stdout",
     "output_type": "stream",
     "text": [
      "['Date', 'Profit/Losses']\n",
      "['Jan-2010', '867884']\n",
      "['Feb-2010', '984655']\n",
      "['Mar-2010', '322013']\n",
      "['Apr-2010', '-69417']\n",
      "['May-2010', '310503']\n",
      "['Jun-2010', '522857']\n",
      "['Jul-2010', '1033096']\n",
      "['Aug-2010', '604885']\n",
      "['Sep-2010', '-216386']\n",
      "['Oct-2010', '477532']\n",
      "['Nov-2010', '893810']\n",
      "['Dec-2010', '-80353']\n",
      "['Jan-2011', '779806']\n",
      "['Feb-2011', '-335203']\n",
      "['Mar-2011', '697845']\n",
      "['Apr-2011', '793163']\n",
      "['May-2011', '485070']\n",
      "['Jun-2011', '584122']\n",
      "['Jul-2011', '62729']\n",
      "['Aug-2011', '668179']\n",
      "['Sep-2011', '899906']\n",
      "['Oct-2011', '834719']\n",
      "['Nov-2011', '132003']\n",
      "['Dec-2011', '309978']\n",
      "['Jan-2012', '-755566']\n",
      "['Feb-2012', '1170593']\n",
      "['Mar-2012', '252788']\n",
      "['Apr-2012', '1151518']\n",
      "['May-2012', '817256']\n",
      "['Jun-2012', '570757']\n",
      "['Jul-2012', '506702']\n",
      "['Aug-2012', '-1022534']\n",
      "['Sep-2012', '475062']\n",
      "['Oct-2012', '779976']\n",
      "['Nov-2012', '144175']\n",
      "['Dec-2012', '542494']\n",
      "['Jan-2013', '359333']\n",
      "['Feb-2013', '321469']\n",
      "['Mar-2013', '67780']\n",
      "['Apr-2013', '471435']\n",
      "['May-2013', '565603']\n",
      "['Jun-2013', '872480']\n",
      "['Jul-2013', '789480']\n",
      "['Aug-2013', '999942']\n",
      "['Sep-2013', '-1196225']\n",
      "['Oct-2013', '268997']\n",
      "['Nov-2013', '-687986']\n",
      "['Dec-2013', '1150461']\n",
      "['Jan-2014', '682458']\n",
      "['Feb-2014', '617856']\n",
      "['Mar-2014', '824098']\n",
      "['Apr-2014', '581943']\n",
      "['May-2014', '132864']\n",
      "['Jun-2014', '448062']\n",
      "['Jul-2014', '689161']\n",
      "['Aug-2014', '800701']\n",
      "['Sep-2014', '1166643']\n",
      "['Oct-2014', '947333']\n",
      "['Nov-2014', '578668']\n",
      "['Dec-2014', '988505']\n",
      "['Jan-2015', '1139715']\n",
      "['Feb-2015', '1029471']\n",
      "['Mar-2015', '687533']\n",
      "['Apr-2015', '-524626']\n",
      "['May-2015', '158620']\n",
      "['Jun-2015', '87795']\n",
      "['Jul-2015', '423389']\n",
      "['Aug-2015', '840723']\n",
      "['Sep-2015', '568529']\n",
      "['Oct-2015', '332067']\n",
      "['Nov-2015', '989499']\n",
      "['Dec-2015', '778237']\n",
      "['Jan-2016', '650000']\n",
      "['Feb-2016', '-1100387']\n",
      "['Mar-2016', '-174946']\n",
      "['Apr-2016', '757143']\n",
      "['May-2016', '445709']\n",
      "['Jun-2016', '712961']\n",
      "['Jul-2016', '-1163797']\n",
      "['Aug-2016', '569899']\n",
      "['Sep-2016', '768450']\n",
      "['Oct-2016', '102685']\n",
      "['Nov-2016', '795914']\n",
      "['Dec-2016', '60988']\n",
      "['Jan-2017', '138230']\n",
      "['Feb-2017', '671099']\n"
     ]
    }
   ],
   "source": [
    "# Open the csv file as an object\n",
    "with open(csvpath, 'r') as csvfile:\n",
    "    csvreader = csv.reader(csvfile, delimiter=',')\n",
    "    # Read the header row first (skip this step if there is no header)\n",
    "    header = next(csvreader)\n",
    "    print(header)\n",
    "    for row in csvreader:\n",
    "        print(row)\n",
    "        line_num += 1\n",
    "        profitloss.append(int(row[1]))\n",
    "        profitloss_sum += int(row[1])\n",
    "        profitloss_dates.append(row[0])\n",
    "\n",
    "        \n",
    "     # Append the column 'Average' to the header\n",
    "    header.append(\"Average\")\n",
    "    # Append the header to the list of records\n",
    "    records.append(header)"
   ]
  },
  {
   "cell_type": "code",
   "execution_count": 8,
   "id": "following-triumph",
   "metadata": {},
   "outputs": [],
   "source": [
    "profitloss_change = []\n",
    "\n",
    "for i in range(1, len(profitloss)):\n",
    "    x = profitloss[i] - profitloss[i - 1]\n",
    "    profitloss_change.append(int(x))"
   ]
  },
  {
   "cell_type": "code",
   "execution_count": 18,
   "id": "british-girlfriend",
   "metadata": {},
   "outputs": [],
   "source": [
    "# Print profitloss_change\n",
    "\n",
    "for i in range(0, len(profitloss_change)):\n",
    "    sum += profitloss_change[i]\n",
    "    average_change_profitloss = round((sum / (len(profitloss_change))), 2)\n"
   ]
  },
  {
   "cell_type": "code",
   "execution_count": 19,
   "id": "boxed-kansas",
   "metadata": {},
   "outputs": [],
   "source": [
    "# Print average_change_profitloss\n",
    "\n",
    "for profloss in profitloss:\n",
    "    \n",
    "    if min_pl == 0:\n",
    "        max_pl == profitloss\n",
    "        min_pl == profitloss\n",
    "    elif profitloss > max_pl:\n",
    "        max_pl = profitloss\n",
    "    elif profitloss < min_pl:\n",
    "        min_pl = profitloss"
   ]
  },
  {
   "cell_type": "code",
   "execution_count": 15,
   "id": "continental-candidate",
   "metadata": {},
   "outputs": [
    {
     "ename": "ValueError",
     "evalue": "0 is not in list",
     "output_type": "error",
     "traceback": [
      "\u001b[1;31m---------------------------------------------------------------------------\u001b[0m",
      "\u001b[1;31mValueError\u001b[0m                                Traceback (most recent call last)",
      "\u001b[1;32m<ipython-input-15-98f913d6beab>\u001b[0m in \u001b[0;36m<module>\u001b[1;34m\u001b[0m\n\u001b[0;32m      1\u001b[0m \u001b[1;31m# print(max_pl, min_pl)\u001b[0m\u001b[1;33m\u001b[0m\u001b[1;33m\u001b[0m\u001b[1;33m\u001b[0m\u001b[0m\n\u001b[0;32m      2\u001b[0m \u001b[1;33m\u001b[0m\u001b[0m\n\u001b[1;32m----> 3\u001b[1;33m \u001b[0mmax_pl_index\u001b[0m \u001b[1;33m=\u001b[0m \u001b[0mprofitloss\u001b[0m\u001b[1;33m.\u001b[0m\u001b[0mindex\u001b[0m\u001b[1;33m(\u001b[0m\u001b[0mmax_pl\u001b[0m\u001b[1;33m)\u001b[0m\u001b[1;33m\u001b[0m\u001b[1;33m\u001b[0m\u001b[0m\n\u001b[0m\u001b[0;32m      4\u001b[0m \u001b[0mmin_pl_index\u001b[0m \u001b[1;33m=\u001b[0m \u001b[0mprofitloss\u001b[0m\u001b[1;33m.\u001b[0m\u001b[0mindex\u001b[0m\u001b[1;33m(\u001b[0m\u001b[0mmin_pl\u001b[0m\u001b[1;33m)\u001b[0m\u001b[1;33m\u001b[0m\u001b[1;33m\u001b[0m\u001b[0m\n\u001b[0;32m      5\u001b[0m \u001b[1;33m\u001b[0m\u001b[0m\n",
      "\u001b[1;31mValueError\u001b[0m: 0 is not in list"
     ]
    }
   ],
   "source": [
    "# Print max_pl and min_pl\n",
    "\n",
    "max_pl_index = profitloss.index(max_pl)\n",
    "min_pl_index = profitloss.index(min_pl)\n",
    "\n",
    "max_pl_date = profitloss_dates[max_pl_index]\n",
    "min_pl_date = profitloss_dates[min_pl_index]\n",
    "\n",
    "print(f\"Financial Analysis\")\n",
    "print(f\"----------------------------\")\n",
    "print(f\"Total Months: {line_num} \")\n",
    "print(f\"Total: ${profitloss_sum}\")\n",
    "print(f\"Average Change: ${average_change_profitloss}\")\n",
    "print(f\"Greatest Increase in Profits: ${max_pl} on {max_pl_date}\")\n",
    "print(f\"Greatest Decrease in Profits: ${min_pl} on {min_pl_date}\")\n"
   ]
  },
  {
   "cell_type": "code",
   "execution_count": 20,
   "id": "parliamentary-maryland",
   "metadata": {},
   "outputs": [],
   "source": [
    "output_path = Path('Financial_Analysis.txt')"
   ]
  },
  {
   "cell_type": "code",
   "execution_count": 21,
   "id": "contained-tattoo",
   "metadata": {},
   "outputs": [
    {
     "ename": "NameError",
     "evalue": "name 'max_pl_date' is not defined",
     "output_type": "error",
     "traceback": [
      "\u001b[1;31m---------------------------------------------------------------------------\u001b[0m",
      "\u001b[1;31mNameError\u001b[0m                                 Traceback (most recent call last)",
      "\u001b[1;32m<ipython-input-21-9edf9234d590>\u001b[0m in \u001b[0;36m<module>\u001b[1;34m\u001b[0m\n\u001b[0;32m      5\u001b[0m     \u001b[0mfile\u001b[0m\u001b[1;33m.\u001b[0m\u001b[0mwrite\u001b[0m\u001b[1;33m(\u001b[0m\u001b[1;34mf\"Total: ${profitloss_sum}\\n\"\u001b[0m\u001b[1;33m)\u001b[0m\u001b[1;33m\u001b[0m\u001b[1;33m\u001b[0m\u001b[0m\n\u001b[0;32m      6\u001b[0m     \u001b[0mfile\u001b[0m\u001b[1;33m.\u001b[0m\u001b[0mwrite\u001b[0m\u001b[1;33m(\u001b[0m\u001b[1;34mf\"Average Change: ${average_change_profitloss}\\n\"\u001b[0m\u001b[1;33m)\u001b[0m\u001b[1;33m\u001b[0m\u001b[1;33m\u001b[0m\u001b[0m\n\u001b[1;32m----> 7\u001b[1;33m     \u001b[0mfile\u001b[0m\u001b[1;33m.\u001b[0m\u001b[0mwrite\u001b[0m\u001b[1;33m(\u001b[0m\u001b[1;34mf\"Greatest Increase in Profits: {max_pl_date} (${max_pl}) \\n\"\u001b[0m\u001b[1;33m)\u001b[0m\u001b[1;33m\u001b[0m\u001b[1;33m\u001b[0m\u001b[0m\n\u001b[0m\u001b[0;32m      8\u001b[0m     \u001b[0mfile\u001b[0m\u001b[1;33m.\u001b[0m\u001b[0mwrite\u001b[0m\u001b[1;33m(\u001b[0m\u001b[1;34mf\"Greatest Decrease in Profits: {min_pl_date} (${min_pl}) \\n\"\u001b[0m\u001b[1;33m)\u001b[0m\u001b[1;33m\u001b[0m\u001b[1;33m\u001b[0m\u001b[0m\n",
      "\u001b[1;31mNameError\u001b[0m: name 'max_pl_date' is not defined"
     ]
    }
   ],
   "source": [
    "with open(output_path, 'w') as file:\n",
    "    file.write(f\"Financial Analysis\\n\")\n",
    "    file.write(f\"----------------------------\\n\")\n",
    "    file.write(f\"Total Months: {line_num} \\n\")\n",
    "    file.write(f\"Total: ${profitloss_sum}\\n\")\n",
    "    file.write(f\"Average Change: ${average_change_profitloss}\\n\")\n",
    "    file.write(f\"Greatest Increase in Profits: {max_pl_date} (${max_pl}) \\n\")\n",
    "    file.write(f\"Greatest Decrease in Profits: {min_pl_date} (${min_pl}) \\n\")"
   ]
  },
  {
   "cell_type": "code",
   "execution_count": null,
   "id": "respective-documentary",
   "metadata": {},
   "outputs": [],
   "source": []
  }
 ],
 "metadata": {
  "kernelspec": {
   "display_name": "Python 3",
   "language": "python",
   "name": "python3"
  },
  "language_info": {
   "codemirror_mode": {
    "name": "ipython",
    "version": 3
   },
   "file_extension": ".py",
   "mimetype": "text/x-python",
   "name": "python",
   "nbconvert_exporter": "python",
   "pygments_lexer": "ipython3",
   "version": "3.8.5"
  }
 },
 "nbformat": 4,
 "nbformat_minor": 5
}
