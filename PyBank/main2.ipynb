{
 "cells": [
  {
   "cell_type": "code",
   "execution_count": 3,
   "id": "chief-merchandise",
   "metadata": {},
   "outputs": [],
   "source": [
    "# Import the pathlib and csv library\n",
    "from pathlib import Path\n",
    "import csv"
   ]
  },
  {
   "cell_type": "code",
   "execution_count": 4,
   "id": "cubic-attention",
   "metadata": {},
   "outputs": [],
   "source": [
    "# Set the path using Pathlib\n",
    "csvpath = Path('../PyBank/budget_data.csv')"
   ]
  },
  {
   "cell_type": "code",
   "execution_count": 5,
   "id": "approved-progressive",
   "metadata": {},
   "outputs": [],
   "source": [
    "# Initialize list of records\n",
    "records = []\n",
    "line_num = 0\n",
    "profitloss = []\n",
    "profitloss_dates = []\n",
    "profitloss_sum = 0\n",
    "max_pl = 0\n",
    "min_pl = 0\n",
    "sum = 0"
   ]
  },
  {
   "cell_type": "code",
   "execution_count": 14,
   "id": "union-pavilion",
   "metadata": {},
   "outputs": [
    {
     "name": "stdout",
     "output_type": "stream",
     "text": [
      "['Date', 'Profit/Losses']\n"
     ]
    }
   ],
   "source": [
    "# Open the csv file as an object\n",
    "with open(csvpath, 'r') as csvfile:\n",
    "    csvreader = csv.reader(csvfile, delimiter=',')\n",
    "    # Read the header row first (skip this step if there is no header)\n",
    "    header = next(csvreader)\n",
    "    print(header)\n",
    "    for row in csvreader:\n",
    "        #print(row)\n",
    "        line_num += 1\n",
    "        profitloss.append(int(row[1]))\n",
    "        profitloss_sum += int(row[1])\n",
    "        profitloss_dates.append(row[0])\n",
    "\n",
    "        \n",
    "     # Append the column 'Average' to the header\n",
    "    header.append(\"Average\")\n",
    "    # Append the header to the list of records\n",
    "    records.append(header)"
   ]
  },
  {
   "cell_type": "code",
   "execution_count": 7,
   "id": "wrapped-mambo",
   "metadata": {},
   "outputs": [],
   "source": [
    "profitloss_change = []\n",
    "\n",
    "for i in range(1, len(profitloss)):\n",
    "    x = profitloss[i] - profitloss[i - 1]\n",
    "    profitloss_change.append(int(x))"
   ]
  },
  {
   "cell_type": "code",
   "execution_count": 8,
   "id": "first-destination",
   "metadata": {},
   "outputs": [],
   "source": [
    "# Print profitloss_change\n",
    "\n",
    "for i in range(0, len(profitloss_change)):\n",
    "    sum += profitloss_change[i]\n",
    "    average_change_profitloss = round((sum / (len(profitloss_change))), 2)\n"
   ]
  },
  {
   "cell_type": "code",
   "execution_count": 9,
   "id": "peripheral-caribbean",
   "metadata": {},
   "outputs": [],
   "source": [
    "# Print average_change_profitloss\n",
    "\n",
    "for pl in profitloss:\n",
    "    \n",
    " \n",
    "    if pl > max_pl:\n",
    "        max_pl = pl\n",
    "        \n",
    "    if pl < min_pl:\n",
    "        min_pl = pl"
   ]
  },
  {
   "cell_type": "code",
   "execution_count": 10,
   "id": "parental-aquatic",
   "metadata": {},
   "outputs": [
    {
     "name": "stdout",
     "output_type": "stream",
     "text": [
      "Financial Analysis\n",
      "----------------------------\n",
      "Total Months: 86 \n",
      "Total: $38382578\n",
      "Average Change: $-2315.12\n",
      "Greatest Increase in Profits: $1170593 on Feb-2012\n",
      "Greatest Decrease in Profits: $-1196225 on Sep-2013\n"
     ]
    }
   ],
   "source": [
    "# Print max_pl and min_pl\n",
    "\n",
    "max_pl_index = profitloss.index(max_pl)\n",
    "min_pl_index = profitloss.index(min_pl)\n",
    "\n",
    "max_pl_date = profitloss_dates[max_pl_index]\n",
    "min_pl_date = profitloss_dates[min_pl_index]\n",
    "\n",
    "print(f\"Financial Analysis\")\n",
    "print(f\"----------------------------\")\n",
    "print(f\"Total Months: {line_num} \")\n",
    "print(f\"Total: ${profitloss_sum}\")\n",
    "print(f\"Average Change: ${average_change_profitloss}\")\n",
    "print(f\"Greatest Increase in Profits: ${max_pl} on {max_pl_date}\")\n",
    "print(f\"Greatest Decrease in Profits: ${min_pl} on {min_pl_date}\")\n"
   ]
  },
  {
   "cell_type": "code",
   "execution_count": 12,
   "id": "silver-boundary",
   "metadata": {},
   "outputs": [],
   "source": [
    "output_path = Path('Financial_Analysis.txt')"
   ]
  },
  {
   "cell_type": "code",
   "execution_count": 13,
   "id": "american-ministry",
   "metadata": {},
   "outputs": [],
   "source": [
    "with open(output_path, 'w') as file:\n",
    "    file.write(f\"Financial Analysis\\n\")\n",
    "    file.write(f\"----------------------------\\n\")\n",
    "    file.write(f\"Total Months: {line_num} \\n\")\n",
    "    file.write(f\"Total: ${profitloss_sum}\\n\")\n",
    "    file.write(f\"Average Change: ${average_change_profitloss}\\n\")\n",
    "    file.write(f\"Greatest Increase in Profits: {max_pl_date} (${max_pl}) \\n\")\n",
    "    file.write(f\"Greatest Decrease in Profits: {min_pl_date} (${min_pl}) \\n\")"
   ]
  },
  {
   "cell_type": "code",
   "execution_count": null,
   "id": "interior-supervision",
   "metadata": {},
   "outputs": [],
   "source": []
  }
 ],
 "metadata": {
  "kernelspec": {
   "display_name": "Python 3",
   "language": "python",
   "name": "python3"
  },
  "language_info": {
   "codemirror_mode": {
    "name": "ipython",
    "version": 3
   },
   "file_extension": ".py",
   "mimetype": "text/x-python",
   "name": "python",
   "nbconvert_exporter": "python",
   "pygments_lexer": "ipython3",
   "version": "3.8.5"
  }
 },
 "nbformat": 4,
 "nbformat_minor": 5
}
