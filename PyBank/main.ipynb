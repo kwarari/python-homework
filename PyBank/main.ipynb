{
 "cells": [
  {
   "cell_type": "code",
   "execution_count": 10,
   "id": "three-tamil",
   "metadata": {},
   "outputs": [],
   "source": [
    "# Import the pathlib and csv library\n",
    "from pathlib import Path\n",
    "import csv\n",
    "import numpy"
   ]
  },
  {
   "cell_type": "code",
   "execution_count": 23,
   "id": "front-league",
   "metadata": {},
   "outputs": [],
   "source": [
    "# Initialize list of records\n",
    "records = []"
   ]
  },
  {
   "cell_type": "code",
   "execution_count": 24,
   "id": "aggregate-request",
   "metadata": {},
   "outputs": [],
   "source": [
    "# Set the path using Pathlib\n",
    "csvpath = Path('../PyBank/budget_data.csv')"
   ]
  },
  {
   "cell_type": "code",
   "execution_count": 33,
   "id": "israeli-cherry",
   "metadata": {},
   "outputs": [
    {
     "name": "stdout",
     "output_type": "stream",
     "text": [
      "['Date', 'Profit/Losses']\n",
      "86\n"
     ]
    }
   ],
   "source": [
    "# Open the csv file as an object\n",
    "with open(csvpath, 'r') as csvfile:\n",
    "    csvreader = csv.reader(csvfile, delimiter=',')\n",
    "    # Read the header row first\n",
    "    header = next(csvreader)\n",
    "    print(header)\n",
    "    \n",
    "    # Append the column 'Average' to the header\n",
    "    header.append(\"Average\")\n",
    "    # Append the header to the list of records\n",
    "    records.append(header)\n",
    "    \n",
    "    #The total number of months included in the dataset.\n",
    "    reader = csvreader\n",
    "    Total_months = len(list(reader))\n",
    "    print(Total_months)\n",
    "    \n",
    "    "
   ]
  },
  {
   "cell_type": "code",
   "execution_count": 14,
   "id": "limiting-craps",
   "metadata": {},
   "outputs": [
    {
     "name": "stdout",
     "output_type": "stream",
     "text": [
      "['Date', 'Profit/Losses', 'Average']\n"
     ]
    }
   ],
   "source": [
    "print(header)"
   ]
  },
  {
   "cell_type": "code",
   "execution_count": null,
   "id": "clear-blackjack",
   "metadata": {},
   "outputs": [],
   "source": []
  },
  {
   "cell_type": "code",
   "execution_count": 32,
   "id": "married-owner",
   "metadata": {},
   "outputs": [],
   "source": [
    "#Calculate Total profit/losses\n"
   ]
  },
  {
   "cell_type": "code",
   "execution_count": null,
   "id": "automotive-intelligence",
   "metadata": {},
   "outputs": [],
   "source": [
    "#The average of the changes in Profit/Losses over the entire period.\n",
    "average = (total_count / total_months)\n"
   ]
  },
  {
   "cell_type": "code",
   "execution_count": null,
   "id": "moderate-stephen",
   "metadata": {},
   "outputs": [],
   "source": [
    "#he greatest increase in profits (date and amount) over the entire period.The greatest decrease in losses (date and amount) over the entire period.\n",
    "\n",
    "minimum_value = 0\n",
    "maximum_value = 0\n",
    "\n",
    "#calculate minimum\n",
    "\n",
    "if minimum value == 0:\n",
    "    minimum_value = total_count\n",
    "elif total_count < minimum_value:\n",
    "    minimum_value = total_count\n",
    "    \n",
    "#calculate maximum\n",
    "\n",
    "if total_count > maximum_value:\n",
    "    maximu_value = total_count\n",
    "    \n",
    "\n"
   ]
  }
 ],
 "metadata": {
  "kernelspec": {
   "display_name": "Python 3",
   "language": "python",
   "name": "python3"
  },
  "language_info": {
   "codemirror_mode": {
    "name": "ipython",
    "version": 3
   },
   "file_extension": ".py",
   "mimetype": "text/x-python",
   "name": "python",
   "nbconvert_exporter": "python",
   "pygments_lexer": "ipython3",
   "version": "3.8.5"
  }
 },
 "nbformat": 4,
 "nbformat_minor": 5
}
