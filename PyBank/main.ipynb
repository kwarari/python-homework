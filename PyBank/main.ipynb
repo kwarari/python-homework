{
 "cells": [
  {
   "cell_type": "code",
   "execution_count": 1,
   "id": "perceived-dialogue",
   "metadata": {},
   "outputs": [],
   "source": [
    "# Import the pathlib and csv library\n",
    "from pathlib import Path\n",
    "import csv"
   ]
  },
  {
   "cell_type": "code",
   "execution_count": 2,
   "id": "binding-corporation",
   "metadata": {},
   "outputs": [],
   "source": [
    "# Initialize list of records\n",
    "records = []"
   ]
  },
  {
   "cell_type": "code",
   "execution_count": 3,
   "id": "starting-leeds",
   "metadata": {},
   "outputs": [],
   "source": [
    "# Set the path using Pathlib\n",
    "csvpath = Path('../PyBank/budget_data.csv')"
   ]
  },
  {
   "cell_type": "code",
   "execution_count": 59,
   "id": "agreed-casino",
   "metadata": {},
   "outputs": [
    {
     "name": "stdout",
     "output_type": "stream",
     "text": [
      "['Date', 'Profit/Losses']\n",
      "86\n"
     ]
    }
   ],
   "source": [
    "# Open the csv file as an object\n",
    "with open(csvpath, 'r') as csvfile:\n",
    "    csvreader = csv.reader(csvfile, delimiter=',')\n",
    "    # Read the header row first (skip this step if there is no header)\n",
    "    header = next(csvreader)\n",
    "    print(header)\n",
    "    \n",
    "    # Append the column 'Average' to the header\n",
    "    header.append(\"Average\")\n",
    "    # Append the header to the list of records\n",
    "    records.append(header)\n",
    "    \n",
    "    #The total number of months included in the dataset.\n",
    "    reader = csvreader\n",
    "    Total_months = len(list(reader))\n",
    "    print(Total_months)"
   ]
  },
  {
   "cell_type": "code",
   "execution_count": 60,
   "id": "colonial-tenant",
   "metadata": {},
   "outputs": [
    {
     "name": "stdout",
     "output_type": "stream",
     "text": [
      "['Date', 'Profit/Losses', 'Average']\n"
     ]
    }
   ],
   "source": [
    "print(header)"
   ]
  },
  {
   "cell_type": "code",
   "execution_count": null,
   "id": "finite-screen",
   "metadata": {},
   "outputs": [],
   "source": []
  },
  {
   "cell_type": "code",
   "execution_count": null,
   "id": "proper-major",
   "metadata": {},
   "outputs": [],
   "source": []
  }
 ],
 "metadata": {
  "kernelspec": {
   "display_name": "Python 3",
   "language": "python",
   "name": "python3"
  },
  "language_info": {
   "codemirror_mode": {
    "name": "ipython",
    "version": 3
   },
   "file_extension": ".py",
   "mimetype": "text/x-python",
   "name": "python",
   "nbconvert_exporter": "python",
   "pygments_lexer": "ipython3",
   "version": "3.8.5"
  }
 },
 "nbformat": 4,
 "nbformat_minor": 5
}
