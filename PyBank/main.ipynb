{
 "cells": [
  {
   "cell_type": "code",
   "execution_count": 1,
   "id": "naval-lodge",
   "metadata": {},
   "outputs": [],
   "source": [
    "# Import the pathlib and csv library\n",
    "from pathlib import Path\n",
    "import csv"
   ]
  },
  {
   "cell_type": "code",
   "execution_count": 2,
   "id": "acquired-invasion",
   "metadata": {},
   "outputs": [],
   "source": [
    "# Initialize list of records\n",
    "records = []\n",
    "Total_count = ()"
   ]
  },
  {
   "cell_type": "code",
   "execution_count": 3,
   "id": "continent-breakdown",
   "metadata": {},
   "outputs": [],
   "source": [
    "# Set the path using Pathlib\n",
    "csvpath = Path('../PyBank/budget_data.csv')"
   ]
  },
  {
   "cell_type": "code",
   "execution_count": 10,
   "id": "oriented-fountain",
   "metadata": {},
   "outputs": [
    {
     "name": "stdout",
     "output_type": "stream",
     "text": [
      "['Date', 'Profit/Losses']\n",
      "86\n"
     ]
    }
   ],
   "source": [
    "# Open the csv file as an object\n",
    "with open(csvpath, 'r') as csvfile:\n",
    "    csvreader = csv.reader(csvfile, delimiter=',')\n",
    "    # Read the header row first (skip this step if there is no header)\n",
    "    header = next(csvreader)\n",
    "    print(header)\n",
    "    \n",
    "    # Append the column 'Average' to the header\n",
    "    header.append(\"Average\")\n",
    "    # Append the header to the list of records\n",
    "    records.append(header)\n",
    "    \n",
    "    #The total number of months included in the dataset.\n",
    "    reader = csvreader\n",
    "    Total_months = len(list(reader))\n",
    "    print(Total_months)\n",
    "    \n",
    "    "
   ]
  },
  {
   "cell_type": "code",
   "execution_count": 7,
   "id": "sensitive-ranking",
   "metadata": {},
   "outputs": [
    {
     "name": "stdout",
     "output_type": "stream",
     "text": [
      "['Date', 'Profit/Losses', 'Average']\n"
     ]
    }
   ],
   "source": [
    "print(header)"
   ]
  },
  {
   "cell_type": "code",
   "execution_count": 12,
   "id": "double-present",
   "metadata": {},
   "outputs": [],
   "source": [
    "#Calculate Total profit/losses\n",
    "total_count = \n"
   ]
  },
  {
   "cell_type": "code",
   "execution_count": null,
   "id": "utility-democrat",
   "metadata": {},
   "outputs": [],
   "source": [
    "#The average of the changes in Profit/Losses over the entire period.\n",
    "average = (total_count / total_months)\n"
   ]
  },
  {
   "cell_type": "code",
   "execution_count": null,
   "id": "accurate-humor",
   "metadata": {},
   "outputs": [],
   "source": [
    "#he greatest increase in profits (date and amount) over the entire period.The greatest decrease in losses (date and amount) over the entire period.\n",
    "\n",
    "minimum_value = 0\n",
    "maximum_value = 0\n",
    "\n",
    "#calculate minimum\n",
    "\n",
    "if minimum value == 0:\n",
    "    minimum_value = total_count\n",
    "elif total_count < minimum_value:\n",
    "    minimum_value = total_count\n",
    "    \n",
    "#calculate maximum\n",
    "\n",
    "if total_count > maximum_value:\n",
    "    maximu_value = total_count\n",
    "    \n",
    "\n"
   ]
  }
 ],
 "metadata": {
  "kernelspec": {
   "display_name": "Python 3",
   "language": "python",
   "name": "python3"
  },
  "language_info": {
   "codemirror_mode": {
    "name": "ipython",
    "version": 3
   },
   "file_extension": ".py",
   "mimetype": "text/x-python",
   "name": "python",
   "nbconvert_exporter": "python",
   "pygments_lexer": "ipython3",
   "version": "3.8.5"
  }
 },
 "nbformat": 4,
 "nbformat_minor": 5
}
