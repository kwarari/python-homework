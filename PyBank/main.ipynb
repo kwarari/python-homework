{
 "cells": [
  {
   "cell_type": "code",
   "execution_count": 37,
   "id": "concerned-metadata",
   "metadata": {},
   "outputs": [],
   "source": [
    "# Import the pathlib and csv library\n",
    "from pathlib import Path\n",
    "import csv\n",
    "import pandas as pd"
   ]
  },
  {
   "cell_type": "code",
   "execution_count": 23,
   "id": "pretty-delivery",
   "metadata": {},
   "outputs": [],
   "source": [
    "# Initialize list of records\n",
    "records = []"
   ]
  },
  {
   "cell_type": "code",
   "execution_count": 24,
   "id": "revised-convertible",
   "metadata": {},
   "outputs": [],
   "source": [
    "# Set the path using Pathlib\n",
    "csvpath = Path('../PyBank/budget_data.csv')"
   ]
  },
  {
   "cell_type": "code",
   "execution_count": 40,
   "id": "european-basic",
   "metadata": {},
   "outputs": [
    {
     "data": {
      "text/html": [
       "<div>\n",
       "<style scoped>\n",
       "    .dataframe tbody tr th:only-of-type {\n",
       "        vertical-align: middle;\n",
       "    }\n",
       "\n",
       "    .dataframe tbody tr th {\n",
       "        vertical-align: top;\n",
       "    }\n",
       "\n",
       "    .dataframe thead th {\n",
       "        text-align: right;\n",
       "    }\n",
       "</style>\n",
       "<table border=\"1\" class=\"dataframe\">\n",
       "  <thead>\n",
       "    <tr style=\"text-align: right;\">\n",
       "      <th></th>\n",
       "      <th>Date</th>\n",
       "      <th>Profit/Losses</th>\n",
       "    </tr>\n",
       "  </thead>\n",
       "  <tbody>\n",
       "    <tr>\n",
       "      <th>0</th>\n",
       "      <td>Jan-2010</td>\n",
       "      <td>867884</td>\n",
       "    </tr>\n",
       "    <tr>\n",
       "      <th>1</th>\n",
       "      <td>Feb-2010</td>\n",
       "      <td>984655</td>\n",
       "    </tr>\n",
       "    <tr>\n",
       "      <th>2</th>\n",
       "      <td>Mar-2010</td>\n",
       "      <td>322013</td>\n",
       "    </tr>\n",
       "    <tr>\n",
       "      <th>3</th>\n",
       "      <td>Apr-2010</td>\n",
       "      <td>-69417</td>\n",
       "    </tr>\n",
       "    <tr>\n",
       "      <th>4</th>\n",
       "      <td>May-2010</td>\n",
       "      <td>310503</td>\n",
       "    </tr>\n",
       "  </tbody>\n",
       "</table>\n",
       "</div>"
      ],
      "text/plain": [
       "       Date  Profit/Losses\n",
       "0  Jan-2010         867884\n",
       "1  Feb-2010         984655\n",
       "2  Mar-2010         322013\n",
       "3  Apr-2010         -69417\n",
       "4  May-2010         310503"
      ]
     },
     "execution_count": 40,
     "metadata": {},
     "output_type": "execute_result"
    }
   ],
   "source": [
    "# Read in CSV as DataFrame\n",
    "data_csv = pd.read_csv(csvpath)\n",
    "data_csv.head()\n",
    "    \n",
    "    "
   ]
  },
  {
   "cell_type": "code",
   "execution_count": 47,
   "id": "stretch-florist",
   "metadata": {},
   "outputs": [
    {
     "name": "stdout",
     "output_type": "stream",
     "text": [
      "Total Months: 86\n"
     ]
    }
   ],
   "source": [
    "#total number of months\n",
    "data_csv[\"Profit/Losses\"].count()\n",
    "print(f\"Total Months: {data_csv['Profit/Losses'].count()}\")"
   ]
  },
  {
   "cell_type": "code",
   "execution_count": 45,
   "id": "russian-product",
   "metadata": {},
   "outputs": [
    {
     "name": "stdout",
     "output_type": "stream",
     "text": [
      "Total Profit/Loss: 38382578\n"
     ]
    }
   ],
   "source": [
    "#Calculate Total profit/losses\n",
    "total_months= data_csv[\"Profit/Losses\"].count()\n",
    "data_csv[\"Profit/Losses\"].sum()\n",
    "print(f\"Total Profit/Loss: {data_csv['Profit/Losses'].sum()}\")"
   ]
  },
  {
   "cell_type": "code",
   "execution_count": 59,
   "id": "accepted-karen",
   "metadata": {},
   "outputs": [
    {
     "name": "stdout",
     "output_type": "stream",
     "text": [
      "Average Profit/Losses: -2315.1176470588234\n"
     ]
    }
   ],
   "source": [
    "#The average of the changes in Profit/Losses over the entire period.\n",
    "data_csv[\"Profit/Losses\"].mean()\n",
    "\n",
    "data_csv['pnl_changes']=data_csv[\"Profit/Losses\"]- data_csv[\"Profit/Losses\"].shift()\n",
    "data_csv\n",
    "\n",
    "Mean_PL= data_csv[\"pnl_changes\"].mean()\n",
    "print(f\"Average Profit/Losses: {Mean_PL}\")"
   ]
  },
  {
   "cell_type": "code",
   "execution_count": 76,
   "id": "above-founder",
   "metadata": {},
   "outputs": [
    {
     "data": {
      "text/plain": [
       "1926159.0"
      ]
     },
     "execution_count": 76,
     "metadata": {},
     "output_type": "execute_result"
    }
   ],
   "source": [
    "#The greatest increase in profits (date and amount) over the entire period.\n",
    "\n",
    "data_csv[\"pnl_changes\"].max()      "
   ]
  },
  {
   "cell_type": "code",
   "execution_count": 78,
   "id": "parliamentary-conference",
   "metadata": {},
   "outputs": [
    {
     "data": {
      "text/plain": [
       "25    Feb-2012\n",
       "Name: Date, dtype: object"
      ]
     },
     "execution_count": 78,
     "metadata": {},
     "output_type": "execute_result"
    }
   ],
   "source": [
    "data_csv.loc[data_csv[\"pnl_changes\"] == data_csv[\"pnl_changes\"].max(),'Date']"
   ]
  },
  {
   "cell_type": "code",
   "execution_count": 77,
   "id": "chubby-mustang",
   "metadata": {},
   "outputs": [
    {
     "data": {
      "text/plain": [
       "-2196167.0"
      ]
     },
     "execution_count": 77,
     "metadata": {},
     "output_type": "execute_result"
    }
   ],
   "source": [
    "#The greatest decrease in losses (date and amount) over the entire period.\n",
    "\n",
    "data_csv[\"pnl_changes\"].min()"
   ]
  },
  {
   "cell_type": "code",
   "execution_count": 79,
   "id": "further-metadata",
   "metadata": {},
   "outputs": [
    {
     "data": {
      "text/plain": [
       "44    Sep-2013\n",
       "Name: Date, dtype: object"
      ]
     },
     "execution_count": 79,
     "metadata": {},
     "output_type": "execute_result"
    }
   ],
   "source": [
    "data_csv.loc[data_csv[\"pnl_changes\"] == data_csv[\"pnl_changes\"].min(),'Date']"
   ]
  },
  {
   "cell_type": "code",
   "execution_count": 92,
   "id": "hairy-course",
   "metadata": {},
   "outputs": [
    {
     "name": "stdout",
     "output_type": "stream",
     "text": [
      "Financial Analysis\n",
      "----------------------\n",
      "Total Months: 86\n",
      "Total Profit/Loss: 38382578\n",
      "Average Profit/Losses: -2315.1176470588234\n",
      "Greatest Increase in Profits: Feb-2012 $1926159.0\n",
      "Greatest Decrease in Profits: Sep-2013 $(-2196167.0)\n"
     ]
    }
   ],
   "source": [
    "     \n",
    "      print(\"Financial Analysis\")\n",
    "print(\"----------------------\")\n",
    "print(f\"Total Months: {Total_months}\")\n",
    "print(f\"Total Profit/Loss: {data_csv['Profit/Losses'].sum()}\")\n",
    "print(f\"Average Profit/Losses: {Mean_PL}\")\n",
    "print(f\"Greatest Increase in Profits: Feb-2012 ${1926159.0}\")\n",
    "print(f\"Greatest Decrease in Profits: Sep-2013 $({-2196167.0})\")"
   ]
  },
  {
   "cell_type": "code",
   "execution_count": 95,
   "id": "distributed-witness",
   "metadata": {},
   "outputs": [],
   "source": [
    "output_path = Path('Financial_Analysis.txt')"
   ]
  },
  {
   "cell_type": "code",
   "execution_count": 97,
   "id": "appreciated-season",
   "metadata": {},
   "outputs": [],
   "source": [
    "with open(output_path, 'w') as file:\n",
    "    file.write(\"Financial Analysis\")\n",
    "    file.write(f\"----------------------------\\n\")\n",
    "    file.write(f\"Total Months: {Total_months}\")\n",
    "    file.write(f\"Total Profit/Loss: {data_csv['Profit/Losses'].sum()}\")\n",
    "    file.write(f\"Average Profit/Losses: {Mean_PL}\")\n",
    "    file.write(f\"Greatest Increase in Profits: Feb-2012 ${1926159.0}\")\n",
    "    file.write(f\"Greatest Decrease in Profits: Sep-2013 $({-2196167.0})\")"
   ]
  },
  {
   "cell_type": "code",
   "execution_count": null,
   "id": "personal-feelings",
   "metadata": {},
   "outputs": [],
   "source": []
  }
 ],
 "metadata": {
  "kernelspec": {
   "display_name": "Python 3",
   "language": "python",
   "name": "python3"
  },
  "language_info": {
   "codemirror_mode": {
    "name": "ipython",
    "version": 3
   },
   "file_extension": ".py",
   "mimetype": "text/x-python",
   "name": "python",
   "nbconvert_exporter": "python",
   "pygments_lexer": "ipython3",
   "version": "3.8.5"
  }
 },
 "nbformat": 4,
 "nbformat_minor": 5
}
